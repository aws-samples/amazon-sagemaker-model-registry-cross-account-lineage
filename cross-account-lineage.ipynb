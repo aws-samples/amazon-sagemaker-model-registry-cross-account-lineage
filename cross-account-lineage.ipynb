{
 "cells": [
  {
   "cell_type": "markdown",
   "metadata": {},
   "source": [
    "### Cross account lineage - query endpoint "
   ]
  },
  {
   "cell_type": "markdown",
   "metadata": {},
   "source": [
    "#### Scenario:\n",
    "* user creates modelpackage-group and modelpackage-version in account 1\n",
    "* user creates endpoint in account 2 using account 1's modelpackage\n",
    "\n",
    "`To get the lineage response account2 must share the lineage resource to account1 by AWS RAM`\n",
    "\n",
    "docs:\n",
    "* RAM : https://docs.aws.amazon.com/sagemaker/latest/dg/xaccount-lineage-tracking.html\n",
    "* deploy endpoint cross account: https://docs.aws.amazon.com/sagemaker/latest/dg/model-registry-deploy.html#model-registry-deploy-xaccount\n",
    "\n",
    "* Please reach out to Yuyao Zhang ozhang@amazon.com or Melanie Li mmelli@amazon.com for any issue or questions"
   ]
  },
  {
   "cell_type": "code",
   "execution_count": null,
   "metadata": {
    "scrolled": true
   },
   "outputs": [],
   "source": [
    "# install pyvis if not installed\n",
    "!pip install pyvis"
   ]
  },
  {
   "cell_type": "markdown",
   "metadata": {},
   "source": [
    "#### The visualizer class to display lineage hierarchical response"
   ]
  },
  {
   "cell_type": "code",
   "execution_count": null,
   "metadata": {},
   "outputs": [],
   "source": [
    "\n",
    "\n",
    "from pyvis.network import Network\n",
    "import os\n",
    "\n",
    "\n",
    "class Visualizer:\n",
    "    def __init__(self):\n",
    "        self.directory = \"generated\"\n",
    "        if not os.path.exists(self.directory):\n",
    "            os.makedirs(self.directory)\n",
    "\n",
    "    def render(self, query_lineage_response, scenario_name):\n",
    "        net = self.get_network()\n",
    "\n",
    "        for vertex in query_lineage_response[\"Vertices\"]:\n",
    "            arn = vertex[\"Arn\"]\n",
    "            if \"Type\" in vertex:\n",
    "                label = vertex[\"Type\"]\n",
    "            else:\n",
    "                label = None\n",
    "            lineage_type = vertex[\"LineageType\"]\n",
    "            name = self.get_name(arn, label)\n",
    "            title = self.get_title(arn, label, lineage_type)\n",
    "            net.add_node(vertex[\"Arn\"], label=name, title=title, shape=\"box\", physics=False)\n",
    "\n",
    "        for edge in query_lineage_response[\"Edges\"]:\n",
    "            source = edge[\"SourceArn\"]\n",
    "            dest = edge[\"DestinationArn\"]\n",
    "            net.add_edge(dest, source)\n",
    "\n",
    "        return net.show(f\"{self.directory}/{scenario_name}.html\")\n",
    "\n",
    "    def get_title(self, arn, label, lineage_type):\n",
    "        return f\"Arn: {arn}\\nType: {label}\\nLineage Type: {lineage_type}\"\n",
    "\n",
    "    def get_name(self, arn, type):\n",
    "        print(arn)\n",
    "        name = arn.split(\"/\")[1]+' '+type\n",
    "        return name\n",
    "\n",
    "    def get_network(self):\n",
    "        net = Network(height=\"800px\", width=\"1000px\", directed=True, notebook=True)\n",
    "        net.set_options(\n",
    "            \"\"\"\n",
    "            var options = {\n",
    "                  \"nodes\": {\n",
    "                    \"borderWidth\": 1,\n",
    "                    \"shadow\": {\n",
    "                      \"enabled\": true\n",
    "                    },\n",
    "                    \"shapeProperties\": {\n",
    "                      \"borderRadius\": 0\n",
    "                    },\n",
    "                    \"size\": 40,\n",
    "                    \"shape\": \"circle\"\n",
    "                  },\n",
    "                  \"edges\": {\n",
    "                    \"arrows\": {\n",
    "                      \"to\": {\n",
    "                        \"enabled\": true\n",
    "                      }\n",
    "                    },\n",
    "                    \"color\": {\n",
    "                      \"inherit\": true\n",
    "                    },\n",
    "                    \"smooth\": false\n",
    "                  },\n",
    "                  \"layout\": {\n",
    "                    \"hierarchical\": {\n",
    "                      \"enabled\": false,\n",
    "                      \"direction\": \"LR\",\n",
    "                      \"sortMethod\": \"directed\"\n",
    "                    }\n",
    "                  }\n",
    "                }\n",
    "        \"\"\"\n",
    "        )\n",
    "        return net"
   ]
  },
  {
   "cell_type": "markdown",
   "metadata": {},
   "source": [
    "#### Lineage imports and variables"
   ]
  },
  {
   "cell_type": "code",
   "execution_count": null,
   "metadata": {},
   "outputs": [],
   "source": [
    "import boto3\n",
    "import os\n",
    "import boto3\n",
    "import sagemaker\n",
    "import pprint\n",
    "from botocore.config import Config\n",
    "from sagemaker.lineage.context import Context, EndpointContext\n",
    "from sagemaker.lineage.action import Action\n",
    "from sagemaker.lineage.association import Association\n",
    "from sagemaker.lineage.artifact import Artifact, ModelArtifact, DatasetArtifact\n",
    "\n",
    "from sagemaker.lineage.query import (\n",
    "    LineageQuery,\n",
    "    LineageFilter,\n",
    "    LineageSourceEnum,\n",
    "    LineageEntityEnum,\n",
    "    LineageQueryDirectionEnum,\n",
    ")\n",
    "sagemaker_session = sagemaker.Session()\n",
    "sm_client = sagemaker_session.sagemaker_client\n",
    "\n",
    "region = sagemaker_session.boto_region_name\n",
    "\n",
    "default_bucket = sagemaker_session.default_bucket()\n",
    "role = sagemaker.get_execution_role()"
   ]
  },
  {
   "cell_type": "markdown",
   "metadata": {},
   "source": [
    "#### Querying all artifacts from ModelPackage\n",
    "* Get model artifacts from modelpackage arn.\n",
    "* Filter context lineage entities and endpoint sources by running LineageQuery."
   ]
  },
  {
   "cell_type": "code",
   "execution_count": null,
   "metadata": {},
   "outputs": [],
   "source": [
    "# From model package version get model artifact\n",
    "model_package_arn = 'arn:aws:sagemaker:us-east-1:631450739534:model-package/xgboost-abalone2022-05-15-10-42-27/1'\n",
    "model_artifact_summary = list(Artifact.list(source_uri=model_package_arn))[0]\n",
    "model_artifact = ModelArtifact.load(artifact_arn=model_artifact_summary.artifact_arn)\n",
    "query_filter = LineageFilter(\n",
    "    entities=[LineageEntityEnum.CONTEXT],\n",
    "    sources=[LineageSourceEnum.ENDPOINT, LineageSourceEnum.MODEL],\n",
    ")\n",
    "\n",
    "query_result = LineageQuery(sagemaker_session).query(\n",
    "    start_arns=[model_artifact.artifact_arn],  # Model is the starting artifact\n",
    "    query_filter=query_filter,\n",
    "    # Find all the entities that descend from the model, i.e. the endpoint\n",
    "    direction=LineageQueryDirectionEnum.DESCENDANTS,\n",
    "    include_edges=True,\n",
    ")\n",
    "associations = []\n",
    "for vertex in query_result.vertices:\n",
    "    associations.append(vertex.__dict__)\n",
    "print(associations)\n",
    "\n",
    "# Run above block for LineageQueryDirectionEnum.ASCENDANTS to get entities ascends"
   ]
  },
  {
   "cell_type": "markdown",
   "metadata": {},
   "source": [
    "#### Visualize hierarchy from query response"
   ]
  },
  {
   "cell_type": "code",
   "execution_count": null,
   "metadata": {},
   "outputs": [],
   "source": [
    "query_response = sm_client.query_lineage(\n",
    "    StartArns=[model_artifact.artifact_arn], Direction=\"Descendants\", IncludeEdges=True\n",
    ")\n",
    "\n",
    "viz = Visualizer()\n",
    "viz.render(query_response, \"ModelPackageVersion\")"
   ]
  },
  {
   "cell_type": "markdown",
   "metadata": {},
   "source": [
    "#### Get endpoint arn from endpoint context"
   ]
  },
  {
   "cell_type": "code",
   "execution_count": null,
   "metadata": {},
   "outputs": [],
   "source": [
    "endpoint_context ='arn:aws:sagemaker:us-east-1:682604156941:context/xgboost-abalone2022-05-15-10-42-27'"
   ]
  },
  {
   "cell_type": "code",
   "execution_count": null,
   "metadata": {},
   "outputs": [],
   "source": [
    "sm_client.describe_context(ContextName=endpoint_context)"
   ]
  },
  {
   "cell_type": "code",
   "execution_count": null,
   "metadata": {},
   "outputs": [],
   "source": []
  }
 ],
 "metadata": {
  "instance_type": "ml.t3.medium",
  "kernelspec": {
   "display_name": "Python 3 (Data Science)",
   "language": "python",
   "name": "python3__SAGEMAKER_INTERNAL__arn:aws:sagemaker:us-east-1:081325390199:image/datascience-1.0"
  },
  "language_info": {
   "codemirror_mode": {
    "name": "ipython",
    "version": 3
   },
   "file_extension": ".py",
   "mimetype": "text/x-python",
   "name": "python",
   "nbconvert_exporter": "python",
   "pygments_lexer": "ipython3",
   "version": "3.7.10"
  }
 },
 "nbformat": 4,
 "nbformat_minor": 4
}
